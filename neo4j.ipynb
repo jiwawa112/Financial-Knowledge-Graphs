{
 "cells": [
  {
   "cell_type": "markdown",
   "metadata": {},
   "source": [
    "### Neo4j\n",
    "+ 它包括如下几个显著特点:\n",
    "+ 完整的ACID支持\n",
    "+ 高可用性\n",
    "+ 轻易扩展到上亿级别的节点和关系\n",
    "+ 通过遍历工具高速检索数据\n",
    "\n",
    "#### 图数据库\n",
    "+ 图数据库用图来存储数据，是最接近高性能的一种用于存储数据的数据结构方式之一。让我们跟随下面的图表，用他们来解释图数据库相关概念。我们将跟随图表中箭头方向来读懂图想表达的真正含义。"
   ]
  }
 ],
 "metadata": {
  "kernelspec": {
   "display_name": "Python 3",
   "language": "python",
   "name": "python3"
  },
  "language_info": {
   "codemirror_mode": {
    "name": "ipython",
    "version": 3
   },
   "file_extension": ".py",
   "mimetype": "text/x-python",
   "name": "python",
   "nbconvert_exporter": "python",
   "pygments_lexer": "ipython3",
   "version": "3.7.0"
  },
  "toc": {
   "base_numbering": 1,
   "nav_menu": {},
   "number_sections": true,
   "sideBar": true,
   "skip_h1_title": false,
   "title_cell": "Table of Contents",
   "title_sidebar": "Contents",
   "toc_cell": false,
   "toc_position": {},
   "toc_section_display": true,
   "toc_window_display": false
  }
 },
 "nbformat": 4,
 "nbformat_minor": 2
}
